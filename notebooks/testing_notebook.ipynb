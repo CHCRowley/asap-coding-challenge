{
 "cells": [
  {
   "cell_type": "markdown",
   "metadata": {},
   "source": [
    "### Testing notebook\n",
    "\n",
    "This interactive notebook is included for you to use for exploratory data analysis and for prototyping map applets"
   ]
  },
  {
   "cell_type": "code",
   "execution_count": null,
   "metadata": {},
   "outputs": [],
   "source": [
    "import os\n",
    "os.chdir(\"..\")\n",
    "os.getcwd()"
   ]
  },
  {
   "cell_type": "markdown",
   "metadata": {},
   "source": [
    "### Exploring feature data (median annual pay by local authority)"
   ]
  },
  {
   "cell_type": "code",
   "execution_count": null,
   "metadata": {},
   "outputs": [],
   "source": [
    "# Explore local authority data\n",
    "from mapping.prep_data import *\n",
    "\n",
    "lad_df = get_df_from_db()\n",
    "\n",
    "lad_df"
   ]
  },
  {
   "cell_type": "markdown",
   "metadata": {},
   "source": [
    "Filter data"
   ]
  },
  {
   "cell_type": "code",
   "execution_count": null,
   "metadata": {},
   "outputs": [],
   "source": [
    "# Use 2024 data only\n",
    "lad_df_2024 = lad_df[lad_df[\"year\"]==2024]\n",
    "\n",
    "# Remove NAs\n",
    "lad_df_2024 = lad_df_2024.dropna()\n",
    "\n",
    "lad_df_2024"
   ]
  },
  {
   "cell_type": "code",
   "execution_count": null,
   "metadata": {},
   "outputs": [],
   "source": [
    "lad_df_2024.dtypes"
   ]
  },
  {
   "cell_type": "code",
   "execution_count": null,
   "metadata": {},
   "outputs": [],
   "source": [
    "# Cast type - Folium map functions don't play nice with Int32\n",
    "lad_df_2024[\"median_ann_pay\"] = lad_df_2024[\"median_ann_pay\"].astype(\"int64\")"
   ]
  },
  {
   "cell_type": "markdown",
   "metadata": {},
   "source": [
    "### Exploring spatial data (local authority boundaries)"
   ]
  },
  {
   "cell_type": "code",
   "execution_count": null,
   "metadata": {},
   "outputs": [],
   "source": [
    "# Explore geojson data\n",
    "import geopandas\n",
    "\n",
    "geo_data = geopandas.read_file(\"data/local_authority_district_boundaries.geojson\")\n",
    "\n",
    "geo_data.head()"
   ]
  },
  {
   "cell_type": "markdown",
   "metadata": {},
   "source": [
    "### Join feature data on spatial data"
   ]
  },
  {
   "cell_type": "code",
   "execution_count": null,
   "metadata": {},
   "outputs": [],
   "source": [
    "geo_data = geo_data.merge(\n",
    "    lad_df_2024,\n",
    "    how=\"left\",\n",
    "    left_on=\"LAD24NM\",\n",
    "    right_on=\"lad\"\n",
    ")\n",
    "\n",
    "geo_data.head()"
   ]
  },
  {
   "cell_type": "markdown",
   "metadata": {},
   "source": [
    "### Folium map prototyping"
   ]
  },
  {
   "cell_type": "code",
   "execution_count": null,
   "metadata": {},
   "outputs": [],
   "source": [
    "import folium\n",
    "\n",
    "m = folium.Map(\n",
    "    location=[51.58,  -2.99],\n",
    "    width=500,\n",
    "    height=720,\n",
    "    zoom_start=6,\n",
    "    max_zoom=6,\n",
    "    tiles=None\n",
    ")\n",
    "\n",
    "folium.Choropleth(\n",
    "    geo_data=geo_data,\n",
    "    data=geo_data,\n",
    "    columns=[\"lad\", \"median_ann_pay\"],\n",
    "    key_on=\"properties.LAD24NM\",\n",
    "    nan_fill_color=\"purple\",\n",
    "    nan_fill_opacity=0.4,\n",
    "    fill_color=\"YlGn\",\n",
    "    fill_opacity=0.7,\n",
    "    line_opacity=0.2,\n",
    "    legend_name=\"Median Gross Annual Pay (£)\"\n",
    ").add_to(m)\n",
    "\n",
    "m"
   ]
  }
 ],
 "metadata": {
  "kernelspec": {
   "display_name": "asap-challenge",
   "language": "python",
   "name": "python3"
  },
  "language_info": {
   "codemirror_mode": {
    "name": "ipython",
    "version": 3
   },
   "file_extension": ".py",
   "mimetype": "text/x-python",
   "name": "python",
   "nbconvert_exporter": "python",
   "pygments_lexer": "ipython3",
   "version": "3.11.11"
  }
 },
 "nbformat": 4,
 "nbformat_minor": 2
}
